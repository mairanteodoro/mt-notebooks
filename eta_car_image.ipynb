{
 "cells": [
  {
   "cell_type": "code",
   "execution_count": 1,
   "metadata": {},
   "outputs": [
    {
     "ename": "ModuleNotFoundError",
     "evalue": "No module named 'dotenv'",
     "output_type": "error",
     "traceback": [
      "\u001b[0;31m---------------------------------------------------------------------------\u001b[0m",
      "\u001b[0;31mModuleNotFoundError\u001b[0m                       Traceback (most recent call last)",
      "\u001b[1;32m/Users/mairan/MT_NOTEBOOKS/mt-notebooks/eta_car_image.ipynb Cell 1\u001b[0m in \u001b[0;36m<cell line: 19>\u001b[0;34m()\u001b[0m\n\u001b[1;32m     <a href='vscode-notebook-cell:/Users/mairan/MT_NOTEBOOKS/mt-notebooks/eta_car_image.ipynb#ch0000000?line=15'>16</a>\u001b[0m \u001b[39mimport\u001b[39;00m \u001b[39mmatplotlib\u001b[39;00m\u001b[39m.\u001b[39;00m\u001b[39mcolors\u001b[39;00m \u001b[39mas\u001b[39;00m \u001b[39mcolors\u001b[39;00m\n\u001b[1;32m     <a href='vscode-notebook-cell:/Users/mairan/MT_NOTEBOOKS/mt-notebooks/eta_car_image.ipynb#ch0000000?line=16'>17</a>\u001b[0m \u001b[39mfrom\u001b[39;00m \u001b[39mmatplotlib\u001b[39;00m\u001b[39m.\u001b[39;00m\u001b[39mpatches\u001b[39;00m \u001b[39mimport\u001b[39;00m Rectangle\n\u001b[0;32m---> <a href='vscode-notebook-cell:/Users/mairan/MT_NOTEBOOKS/mt-notebooks/eta_car_image.ipynb#ch0000000?line=18'>19</a>\u001b[0m \u001b[39mfrom\u001b[39;00m \u001b[39mdotenv\u001b[39;00m \u001b[39mimport\u001b[39;00m load_dotenv, find_dotenv\n\u001b[1;32m     <a href='vscode-notebook-cell:/Users/mairan/MT_NOTEBOOKS/mt-notebooks/eta_car_image.ipynb#ch0000000?line=20'>21</a>\u001b[0m load_dotenv(find_dotenv())  \u001b[39m# take environment variables from .env.\u001b[39;00m\n\u001b[1;32m     <a href='vscode-notebook-cell:/Users/mairan/MT_NOTEBOOKS/mt-notebooks/eta_car_image.ipynb#ch0000000?line=22'>23</a>\u001b[0m get_ipython()\u001b[39m.\u001b[39mrun_line_magic(\u001b[39m'\u001b[39m\u001b[39mmatplotlib\u001b[39m\u001b[39m'\u001b[39m, \u001b[39m'\u001b[39m\u001b[39minline\u001b[39m\u001b[39m'\u001b[39m)\n",
      "\u001b[0;31mModuleNotFoundError\u001b[0m: No module named 'dotenv'"
     ]
    }
   ],
   "source": [
    "from astropy.io import fits\n",
    "from astropy.coordinates import SkyCoord\n",
    "from astropy.wcs import WCS\n",
    "from astropy.nddata import Cutout2D\n",
    "from astropy import units as u\n",
    "\n",
    "from reproject.mosaicking import find_optimal_celestial_wcs\n",
    "from reproject import reproject_interp\n",
    "from reproject.mosaicking import reproject_and_coadd\n",
    "\n",
    "import os\n",
    "\n",
    "import numpy as np\n",
    "\n",
    "import matplotlib.pyplot as plt\n",
    "import matplotlib.colors as colors\n",
    "from matplotlib.patches import Rectangle\n",
    "\n",
    "from dotenv import load_dotenv, find_dotenv\n",
    "\n",
    "load_dotenv(find_dotenv())  # take environment variables from .env.\n",
    "\n",
    "%matplotlib inline"
   ]
  },
  {
   "cell_type": "code",
   "execution_count": null,
   "metadata": {},
   "outputs": [],
   "source": [
    "filepath = '/Users/mteodoro/IMAGES/ETACAR/MAST_2022-07-13T1256/HST/ie2w04020'\n",
    "filename = 'ie2w04020_drz.fits'\n",
    "path = os.path.join(filepath, filename)\n",
    "\n",
    "hdu = fits.open(path)\n",
    "wcs_in = WCS(hdu['SCI'].header)"
   ]
  },
  {
   "cell_type": "markdown",
   "metadata": {},
   "source": [
    "$\\eta$ Car's ICRS coordinates from SIMBAD:"
   ]
  },
  {
   "cell_type": "code",
   "execution_count": null,
   "metadata": {},
   "outputs": [],
   "source": [
    "etc_coords = SkyCoord('10h45m03.5377808928s -59d41m04.051599720s', frame='icrs')"
   ]
  },
  {
   "cell_type": "markdown",
   "metadata": {},
   "source": [
    "Determine the optimal WCS for the image (by default the final WCS will be oriented North-Up East-Left)"
   ]
  },
  {
   "cell_type": "code",
   "execution_count": null,
   "metadata": {},
   "outputs": [],
   "source": [
    "wcs_out, shape_out = find_optimal_celestial_wcs([hdu['SCI']], reference=etc_coords)"
   ]
  },
  {
   "cell_type": "markdown",
   "metadata": {},
   "source": [
    "Apply the optimal WCS transformations to the original image and save the result"
   ]
  },
  {
   "cell_type": "code",
   "execution_count": null,
   "metadata": {},
   "outputs": [],
   "source": [
    "array, footprint = reproject_and_coadd([hdu['SCI']], wcs_out, shape_out=shape_out, reproject_function=reproject_interp)"
   ]
  },
  {
   "cell_type": "code",
   "execution_count": null,
   "metadata": {},
   "outputs": [],
   "source": [
    "plt.figure(figsize=(18, 8))\n",
    "\n",
    "vmin = 1\n",
    "vmax = 100\n",
    "cmap = 'viridis'\n",
    "norm = colors.LogNorm(vmin, vmax, clip=True)\n",
    "\n",
    "ax1 = plt.subplot(1, 2, 1, projection=wcs_in)\n",
    "im1 = ax1.imshow(hdu['SCI'].data, origin='lower', cmap=cmap, norm=norm)\n",
    "ax1.set_xlabel('alpha')\n",
    "ax1.set_ylabel('delta')\n",
    "ax1.set_title('Original')\n",
    "ax1.grid(color='white', ls='-', alpha=0.7)\n",
    "\n",
    "ax2 = plt.subplot(1, 2, 2, projection=wcs_out)\n",
    "im2 = ax2.imshow(array, origin='lower', cmap=cmap, norm=norm)\n",
    "ax2.set_xlabel('alpha')\n",
    "ax2.set_ylabel('delta')\n",
    "ax2.set_title('NUEL Oriented')\n",
    "ax2.grid(color='white', ls='-', alpha=0.7)"
   ]
  },
  {
   "cell_type": "code",
   "execution_count": null,
   "metadata": {},
   "outputs": [],
   "source": [
    "plt.figure(figsize=(20, 10))\n",
    "\n",
    "# size of the cutout image (relative to the central source coordinates)\n",
    "size = u.Quantity((4, 4), u.arcsec)\n",
    "cutout = Cutout2D(array, etc_coords, size, wcs=wcs_out)\n",
    "wcs_cutout = cutout.wcs\n",
    "\n",
    "vmin = 10\n",
    "vmax = 10000\n",
    "cmap = 'viridis'\n",
    "norm = colors.LogNorm(vmin, vmax)\n",
    "\n",
    "ax = plt.subplot(projection=wcs_cutout)\n",
    "ax.set_xlabel('alpha')\n",
    "ax.set_ylabel('delta')\n",
    "ax.set_title('Cutout')\n",
    "# ax.grid(color='white', ls='-', alpha=0.25)\n",
    "\n",
    "ax.plot_coord(etc_coords, '+', color='red')\n",
    "\n",
    "im = ax.imshow(cutout.data, origin='lower', cmap=cmap, norm=norm)"
   ]
  },
  {
   "cell_type": "code",
   "execution_count": null,
   "metadata": {},
   "outputs": [],
   "source": []
  }
 ],
 "metadata": {
  "kernelspec": {
   "display_name": "Python 3.9.0 64-bit ('mt_notebooks_venv390')",
   "language": "python",
   "name": "python3"
  },
  "language_info": {
   "codemirror_mode": {
    "name": "ipython",
    "version": 3
   },
   "file_extension": ".py",
   "mimetype": "text/x-python",
   "name": "python",
   "nbconvert_exporter": "python",
   "pygments_lexer": "ipython3",
   "version": "3.9.0"
  },
  "orig_nbformat": 4,
  "vscode": {
   "interpreter": {
    "hash": "32b325ed272c3e0b843d0efa77f1aa1428d5a784819e5344ecaf678f389c243c"
   }
  }
 },
 "nbformat": 4,
 "nbformat_minor": 2
}
