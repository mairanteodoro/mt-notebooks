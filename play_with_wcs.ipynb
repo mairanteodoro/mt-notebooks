{
 "cells": [
  {
   "cell_type": "code",
   "execution_count": 2,
   "metadata": {},
   "outputs": [],
   "source": [
    "import wcs_footprint_visualizer as wfv\n",
    "import numpy as np\n",
    "\n",
    "from astropy.modeling import models\n",
    "from astropy import coordinates as coord\n",
    "from astropy import units as u\n",
    "\n",
    "from gwcs import WCS\n",
    "from gwcs import coordinate_frames as cf\n",
    "from adjustText import adjust_text\n",
    "\n",
    "from stcal.alignment.util import (\n",
    "    wcs_from_footprints,\n",
    ")"
   ]
  },
  {
   "cell_type": "code",
   "execution_count": 3,
   "metadata": {},
   "outputs": [],
   "source": [
    "# print all output from a single cell\n",
    "from IPython.core.interactiveshell import InteractiveShell\n",
    "InteractiveShell.ast_node_interactivity = 'all'\n",
    "\n",
    "%matplotlib inline"
   ]
  },
  {
   "cell_type": "code",
   "execution_count": 4,
   "metadata": {},
   "outputs": [],
   "source": [
    "class WcsInfo:\n",
    "    def __init__(self, ra_ref, dec_ref, roll_ref, v2_ref, v3_ref, v3yangle):\n",
    "        self.ra_ref = ra_ref\n",
    "        self.dec_ref = dec_ref\n",
    "        self.ctype1 = \"RA---TAN\"\n",
    "        self.ctype2 = \"DEC--TAN\"\n",
    "        self.v2_ref = v2_ref\n",
    "        self.v3_ref = v3_ref\n",
    "        self.v3yangle = v3yangle\n",
    "        self.roll_ref = roll_ref\n",
    "        self.vparity = -1\n",
    "        self.wcsaxes = 2\n",
    "\n",
    "\n",
    "class Coordinates:\n",
    "    def __init__(self):\n",
    "        self.reference_frame = \"ICRS\"\n",
    "\n",
    "\n",
    "class MetaData:\n",
    "    def __init__(\n",
    "        self, ra_ref, dec_ref, roll_ref, v2_ref, v3_ref, v3yangle, wcs=None\n",
    "    ):\n",
    "        self.wcsinfo = WcsInfo(\n",
    "            ra_ref, dec_ref, roll_ref, v2_ref, v3_ref, v3yangle\n",
    "        )\n",
    "        self.wcs = wcs\n",
    "        self.coordinates = Coordinates()\n",
    "\n",
    "\n",
    "class DataModel:\n",
    "    def __init__(\n",
    "        self, ra_ref, dec_ref, roll_ref, v2_ref, v3_ref, v3yangle, wcs=None\n",
    "    ):\n",
    "        self.meta = MetaData(\n",
    "            ra_ref, dec_ref, roll_ref, v2_ref, v3_ref, v3yangle, wcs=wcs\n",
    "        )"
   ]
  },
  {
   "cell_type": "code",
   "execution_count": 31,
   "metadata": {},
   "outputs": [],
   "source": [
    "def _create_wcs_object_without_distortion(\n",
    "    fiducial_world,\n",
    "    pscale,\n",
    "    shape,\n",
    "):\n",
    "    # we should apply a shift when working with FITS, otherwise, it is not necessary\n",
    "    shift = models.Shift() & models.Shift()\n",
    "\n",
    "    scale = models.Scale(pscale[0]) & models.Scale(pscale[1])\n",
    "\n",
    "    tan = models.Pix2Sky_TAN()\n",
    "    celestial_rotation = models.RotateNative2Celestial(\n",
    "        fiducial_world[0],\n",
    "        fiducial_world[1],\n",
    "        180,\n",
    "    )\n",
    "\n",
    "    det2sky = shift | scale | tan | celestial_rotation\n",
    "    det2sky.name = \"linear_transform\"\n",
    "\n",
    "    detector_frame = cf.Frame2D(\n",
    "        name=\"detector\", axes_names=(\"x\", \"y\"), unit=(u.pix, u.pix)\n",
    "    )\n",
    "    sky_frame = cf.CelestialFrame(\n",
    "        reference_frame=coord.FK5(), name=\"fk5\", unit=(u.deg, u.deg)\n",
    "    )\n",
    "\n",
    "    pipeline = [(detector_frame, det2sky), (sky_frame, None)]\n",
    "\n",
    "    wcs_obj = WCS(pipeline)\n",
    "\n",
    "    wcs_obj.bounding_box = (\n",
    "        (-0.5, shape[0] - 0.5),\n",
    "        (-0.5, shape[1] - 0.5),\n",
    "    )\n",
    "\n",
    "    return wcs_obj\n",
    "\n",
    "def _create_wcs_and_datamodel(fiducial_world, shape, pscale):\n",
    "    wcs = _create_wcs_object_without_distortion(\n",
    "        fiducial_world=fiducial_world, shape=shape, pscale=pscale\n",
    "    )\n",
    "    ra_ref, dec_ref = fiducial_world[0], fiducial_world[1]\n",
    "    return DataModel(\n",
    "        ra_ref=ra_ref,\n",
    "        dec_ref=dec_ref,\n",
    "        roll_ref=0,\n",
    "        v2_ref=0,\n",
    "        v3_ref=0,\n",
    "        v3yangle=0,\n",
    "        wcs=wcs,\n",
    "    )"
   ]
  },
  {
   "cell_type": "code",
   "execution_count": 32,
   "metadata": {},
   "outputs": [
    {
     "data": {
      "text/plain": [
       "(4, 4)"
      ]
     },
     "execution_count": 32,
     "metadata": {},
     "output_type": "execute_result"
    },
    {
     "data": {
      "text/plain": [
       "[4, 4]"
      ]
     },
     "execution_count": 32,
     "metadata": {},
     "output_type": "execute_result"
    },
    {
     "data": {
      "text/plain": [
       "(9.999999999999998, 0.0)"
      ]
     },
     "execution_count": 32,
     "metadata": {},
     "output_type": "execute_result"
    },
    {
     "data": {
      "text/plain": [
       "(9.999972000000003, -2.7999999996212126e-05)"
      ]
     },
     "execution_count": 32,
     "metadata": {},
     "output_type": "execute_result"
    },
    {
     "data": {
      "text/plain": [
       "(10.000070000000015, -4.199999999900127e-05)"
      ]
     },
     "execution_count": 32,
     "metadata": {},
     "output_type": "execute_result"
    },
    {
     "data": {
      "text/plain": [
       "<matplotlib.collections.PathCollection at 0x13bc6d7d0>"
      ]
     },
     "execution_count": 32,
     "metadata": {},
     "output_type": "execute_result"
    },
    {
     "data": {
      "text/plain": [
       "<matplotlib.collections.PathCollection at 0x13bc6ea10>"
      ]
     },
     "execution_count": 32,
     "metadata": {},
     "output_type": "execute_result"
    },
    {
     "data": {
      "text/plain": [
       "<matplotlib.collections.PathCollection at 0x13bb58c10>"
      ]
     },
     "execution_count": 32,
     "metadata": {},
     "output_type": "execute_result"
    },
    {
     "data": {
      "text/plain": [
       "<matplotlib.collections.PathCollection at 0x13bb0bf50>"
      ]
     },
     "execution_count": 32,
     "metadata": {},
     "output_type": "execute_result"
    },
    {
     "data": {
      "text/plain": [
       "<matplotlib.collections.PathCollection at 0x13bc79a50>"
      ]
     },
     "execution_count": 32,
     "metadata": {},
     "output_type": "execute_result"
    },
    {
     "data": {
      "text/plain": [
       "<matplotlib.collections.PathCollection at 0x13bb9b310>"
      ]
     },
     "execution_count": 32,
     "metadata": {},
     "output_type": "execute_result"
    },
    {
     "data": {
      "text/plain": [
       "<matplotlib.collections.PathCollection at 0x13bc25a50>"
      ]
     },
     "execution_count": 32,
     "metadata": {},
     "output_type": "execute_result"
    },
    {
     "data": {
      "text/plain": [
       "4"
      ]
     },
     "execution_count": 32,
     "metadata": {},
     "output_type": "execute_result"
    },
    {
     "data": {
      "image/png": "[encoded data removed]",
      "text/plain": [
       "<Figure size 800x800 with 1 Axes>"
      ]
     },
     "metadata": {},
     "output_type": "display_data"
    }
   ],
   "source": [
    "shape = (3, 3)  # in pixels\n",
    "fiducial_world = (10, 0)  # in deg\n",
    "pscale = (0.000028, 0.000028)  # in deg/pixel\n",
    "\n",
    "dm_1 = _create_wcs_and_datamodel(fiducial_world, shape, pscale)\n",
    "wcs_1 = dm_1.meta.wcs\n",
    "\n",
    "# shift fiducial by the size of a pixel projected onto the sky in both directions\n",
    "# and create a new WCS\n",
    "fiducial_world = (\n",
    "    fiducial_world[0] - 0.000028,\n",
    "    fiducial_world[1] - 0.000028,\n",
    ")\n",
    "dm_2 = _create_wcs_and_datamodel(fiducial_world, shape, pscale)\n",
    "wcs_2 = dm_2.meta.wcs\n",
    "\n",
    "wcs = wcs_from_footprints([dm_1, dm_2])\n",
    "\n",
    "# visualization\n",
    "wcs_1.name = \"WCS_1\"\n",
    "wcs_2.name = \"WCS_2\"\n",
    "wcs.name = \"WCS\"\n",
    "wcs.pixel_shape\n",
    "wcs.array_shape\n",
    "\n",
    "# WCS(0,0) should return the coordinates of the WCS's fiducial point\n",
    "wcs_1(0, 0)\n",
    "wcs_2(0, 0)\n",
    "wcs(0, 0)\n",
    "\n",
    "fig = wfv.plot([wcs_1, wcs_2, wcs])\n",
    "\n",
    "# show wcs_1 fiducial point coordinates\n",
    "fig.scatter([10], [0], marker=\"+\", s=50, color=\"blue\")\n",
    "# show wcs_2 fiducial point coordinates\n",
    "fig.scatter(fiducial_world[0], fiducial_world[1], marker=\"+\", s=50, color=\"green\")\n",
    "\n",
    "# show wcs_1's pixel coordinate (0, 0)\n",
    "fig.scatter(*wcs_1(0, 0), marker=\"o\", facecolors=\"None\", edgecolors=\"blue\", s=50)\n",
    "# show wcs_2's pixel coordinate (0, 0)\n",
    "fig.scatter(*wcs_2(0, 0), marker=\"o\", facecolors=\"None\", edgecolors=\"green\", s=50)\n",
    "# show wcs's pixel coordinate (0, 0)\n",
    "fig.scatter(*wcs(0, 0) , marker=\"o\", facecolors=\"None\", edgecolors=\"black\", s=50)\n",
    "\n",
    "# # show wcs_1's pixel coordinate (n, n)\n",
    "fig.scatter(*wcs_1(shape[0], shape[1]), marker=\"o\", facecolors=\"None\", edgecolors=\"blue\", s=50)\n",
    "# # show wcs_2's pixel coordinate (n, n)\n",
    "fig.scatter(*wcs_2(shape[0], shape[1]), marker=\"o\", facecolors=\"None\", edgecolors=\"green\", s=50)\n",
    "\n",
    "# add text labels\n",
    "texts = [\n",
    "    fig.text(*wcs(0, 0), s=f\"WCS{id} (fiducial)\", color=c)\n",
    "    for wcs, id, c in [\n",
    "        (wcs_1, \"_1\", \"blue\"), (wcs_2, \"_2\", \"green\"), (wcs, \"\", \"black\")\n",
    "    ]\n",
    "]\n",
    "adjust_text(texts, arrowprops=dict(arrowstyle=\"-\", color=\"k\", lw=0.5))"
   ]
  },
  {
   "cell_type": "code",
   "execution_count": 7,
   "metadata": {},
   "outputs": [
    {
     "data": {
      "text/plain": [
       "array([[ 1.000007e+01, -4.200000e-05],\n",
       "       [ 1.000007e+01,  7.000000e-05],\n",
       "       [ 9.999958e+00,  7.000000e-05],\n",
       "       [ 9.999958e+00, -4.200000e-05]])"
      ]
     },
     "execution_count": 7,
     "metadata": {},
     "output_type": "execute_result"
    }
   ],
   "source": [
    "wcs.footprint()"
   ]
  },
  {
   "cell_type": "markdown",
   "metadata": {},
   "source": [
    "The combined WCS will have its vertices matching up with the footprint:"
   ]
  },
  {
   "cell_type": "code",
   "execution_count": 18,
   "metadata": {},
   "outputs": [],
   "source": [
    "assert all(np.isclose(wcs.footprint()[0], wcs(0, 0)))\n",
    "assert all(np.isclose(wcs.footprint()[1], wcs(0, 4)))\n",
    "assert all(np.isclose(wcs.footprint()[2], wcs(4, 4)))\n",
    "assert all(np.isclose(wcs.footprint()[3], wcs(4, 0)))"
   ]
  },
  {
   "cell_type": "code",
   "execution_count": 36,
   "metadata": {},
   "outputs": [
    {
     "data": {
      "text/plain": [
       "([(10.00000000000003, -2.593838713986836e-14), (9.999999999999998, 0.0)],\n",
       " [(9.999972000000053, -2.8000000002311735e-05),\n",
       "  (9.999972000000003, -2.7999999996212126e-05)])"
      ]
     },
     "execution_count": 36,
     "metadata": {},
     "output_type": "execute_result"
    }
   ],
   "source": [
    "[wcs(2.5, 1.5), wcs_1(0, 0)], [wcs(3.5, 0.5), wcs_2(0, 0)]"
   ]
  },
  {
   "cell_type": "code",
   "execution_count": 37,
   "metadata": {},
   "outputs": [],
   "source": [
    "assert all(np.isclose(wcs(2.5, 1.5), wcs_1(0, 0)))\n",
    "assert all(np.isclose(wcs(3.5, 0.5), wcs_2(0, 0)))"
   ]
  },
  {
   "cell_type": "code",
   "execution_count": 14,
   "metadata": {},
   "outputs": [
    {
     "data": {
      "text/plain": [
       "array([ True,  True])"
      ]
     },
     "execution_count": 14,
     "metadata": {},
     "output_type": "execute_result"
    }
   ],
   "source": [
    "np.isclose(wcs(3.5, 0.5), wcs_2(0, 0))"
   ]
  },
  {
   "cell_type": "code",
   "execution_count": null,
   "metadata": {},
   "outputs": [],
   "source": []
  }
 ],
 "metadata": {
  "kernelspec": {
   "display_name": "play_with_wcs_venv",
   "language": "python",
   "name": "python3"
  },
  "language_info": {
   "codemirror_mode": {
    "name": "ipython",
    "version": 3
   },
   "file_extension": ".py",
   "mimetype": "text/x-python",
   "name": "python",
   "nbconvert_exporter": "python",
   "pygments_lexer": "ipython3",
   "version": "3.11.2"
  },
  "orig_nbformat": 4
 },
 "nbformat": 4,
 "nbformat_minor": 2
}
